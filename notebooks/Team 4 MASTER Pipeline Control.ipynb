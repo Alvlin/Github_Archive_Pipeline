{
 "cells": [
  {
   "cell_type": "code",
   "execution_count": 0,
   "metadata": {
    "application/vnd.databricks.v1+cell": {
     "cellMetadata": {},
     "inputWidgets": {},
     "nuid": "a9101891-816b-4da6-afef-120ee8c3b396",
     "showTitle": false,
     "title": ""
    }
   },
   "outputs": [],
   "source": [
    "%run './Team 4 Bronze Medallion Notebook'"
   ]
  },
  {
   "cell_type": "code",
   "execution_count": 0,
   "metadata": {
    "application/vnd.databricks.v1+cell": {
     "cellMetadata": {},
     "inputWidgets": {},
     "nuid": "f58309ca-9d72-43ab-9935-49f99d33deda",
     "showTitle": false,
     "title": ""
    }
   },
   "outputs": [],
   "source": [
    "%run './Team 4 Silver Medallion Notebook'"
   ]
  },
  {
   "cell_type": "code",
   "execution_count": 0,
   "metadata": {
    "application/vnd.databricks.v1+cell": {
     "cellMetadata": {},
     "inputWidgets": {},
     "nuid": "0cd24180-4d3a-4505-8862-77f30d5589d1",
     "showTitle": false,
     "title": ""
    }
   },
   "outputs": [],
   "source": [
    "%run './Team 4 Gold Medallion Notebook'"
   ]
  }
 ],
 "metadata": {
  "application/vnd.databricks.v1+notebook": {
   "dashboards": [],
   "language": "python",
   "notebookMetadata": {
    "pythonIndentUnit": 4
   },
   "notebookName": "Team 4 MASTER Pipeline Control",
   "widgets": {}
  }
 },
 "nbformat": 4,
 "nbformat_minor": 0
}

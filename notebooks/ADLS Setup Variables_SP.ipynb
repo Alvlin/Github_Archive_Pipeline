{
 "cells": [
  {
   "cell_type": "code",
   "execution_count": null,
   "metadata": {
    "application/vnd.databricks.v1+cell": {
     "cellMetadata": {
      "byteLimit": 2048000,
      "rowLimit": 10000
     },
     "inputWidgets": {},
     "nuid": "504ed721-0c6c-4258-9302-57b76654294e",
     "showTitle": false,
     "title": ""
    }
   },
   "outputs": [],
   "source": [
    "import os"
   ]
  },
  {
   "cell_type": "code",
   "execution_count": null,
   "metadata": {
    "application/vnd.databricks.v1+cell": {
     "cellMetadata": {},
     "inputWidgets": {},
     "nuid": "4d430137-9952-43ff-adda-7605904b40fd",
     "showTitle": false,
     "title": ""
    }
   },
   "outputs": [],
   "source": [
    "client_id = dbutils.secrets.get('20231023 ADLS Access', 'client-id') #app id\n",
    "tenant_id = dbutils.secrets.get('20231023 ADLS Access', 'tenant-id') #directory id\n",
    "client_secret = dbutils.secrets.get('20231023 ADLS Access', 'sp-secret') "
   ]
  },
  {
   "cell_type": "code",
   "execution_count": null,
   "metadata": {
    "application/vnd.databricks.v1+cell": {
     "cellMetadata": {},
     "inputWidgets": {},
     "nuid": "519df3ad-f3b0-410a-973f-c61ad6250630",
     "showTitle": false,
     "title": ""
    }
   },
   "outputs": [],
   "source": [
    "acct_name = \"20231023desa\""
   ]
  },
  {
   "cell_type": "code",
   "execution_count": null,
   "metadata": {
    "application/vnd.databricks.v1+cell": {
     "cellMetadata": {},
     "inputWidgets": {},
     "nuid": "39b47734-f22f-4fee-8f9d-9ab8b801c63e",
     "showTitle": false,
     "title": ""
    }
   },
   "outputs": [],
   "source": [
    "cont_name1 = \"team1-project2\"\n",
    "cont_name2 = \"team4-project2\"\n",
    "\n",
    "bronze_path1 = f\"abfss://{cont_name1}@{acct_name}.dfs.core.windows.net/BronzeLayer/\"\n",
    "bronze_path2 = f\"abfss://{cont_name2}@{acct_name}.dfs.core.windows.net/BronzeLayer/\"\n",
    "silver_path = f\"abfss://{cont_name2}@{acct_name}.dfs.core.windows.net/SilverLayer/\"\n",
    "gold_path = f\"abfss://{cont_name2}@{acct_name}.dfs.core.windows.net/GoldLayer/\"\n",
    "#service_credential = dbutils.secrets.get(scope=\"<secret-scope>\",key=\"<service-credential-key>\")\n",
    "\n",
    "spark.conf.set(f\"fs.azure.account.auth.type.{acct_name}.dfs.core.windows.net\", \"OAuth\")\n",
    "spark.conf.set(f\"fs.azure.account.oauth.provider.type.{acct_name}.dfs.core.windows.net\", \"org.apache.hadoop.fs.azurebfs.oauth2.ClientCredsTokenProvider\")\n",
    "spark.conf.set(f\"fs.azure.account.oauth2.client.id.{acct_name}.dfs.core.windows.net\", client_id)\n",
    "spark.conf.set(f\"fs.azure.account.oauth2.client.secret.{acct_name}.dfs.core.windows.net\", client_secret)\n",
    "spark.conf.set(f\"fs.azure.account.oauth2.client.endpoint.{acct_name}.dfs.core.windows.net\", f\"https://login.microsoftonline.com/{tenant_id}/oauth2/token\")"
   ]
  },
  {
   "cell_type": "code",
   "execution_count": null,
   "metadata": {
    "application/vnd.databricks.v1+cell": {
     "cellMetadata": {},
     "inputWidgets": {},
     "nuid": "6bf5fe98-de2d-43fb-81f8-e0ec46ac14d3",
     "showTitle": false,
     "title": ""
    }
   },
   "outputs": [],
   "source": [
    "dbfs_path = 'dbfs:/FileStore/TeamFour/'"
   ]
  }
 ],
 "metadata": {
  "application/vnd.databricks.v1+notebook": {
   "dashboards": [],
   "language": "python",
   "notebookMetadata": {
    "pythonIndentUnit": 4
   },
   "notebookName": "ADLS Setup Variables_SP",
   "widgets": {}
  },
  "language_info": {
   "name": "python"
  }
 },
 "nbformat": 4,
 "nbformat_minor": 0
}
